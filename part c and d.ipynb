{
 "cells": [
  {
   "cell_type": "code",
   "execution_count": 1,
   "metadata": {},
   "outputs": [],
   "source": [
    "import numpy as np\n",
    "import pandas as pd\n",
    "import matplotlib.pyplot as plt\n",
    "from sklearn.metrics import accuracy_score, confusion_matrix\n",
    "from sklearn.neural_network import MLPClassifier\n",
    "from sklearn.neural_network._base import ACTIVATIONS\n",
    "import warnings\n",
    "warnings.filterwarnings('ignore')"
   ]
  },
  {
   "cell_type": "code",
   "execution_count": 2,
   "metadata": {},
   "outputs": [],
   "source": [
    "VECTOR_SIZE = 1000\n",
    "TRAIN_TEST_SPLIT = int(VECTOR_SIZE * .7)\n",
    "\n",
    "class CustomAdaline(object):\n",
    "\n",
    "    def __init__(self, n_iterations=100, random_state=1, learning_rate=0.01):\n",
    "        self.n_iterations = n_iterations\n",
    "        self.random_state = random_state\n",
    "        self.learning_rate = learning_rate\n",
    "        self.weights = None\n",
    "        self.score_ = None\n",
    "\n",
    "    def fit(self, X: np.array, y: np.array) -> None:\n",
    "        \"\"\"\n",
    "        gets random weights and optimizes them n_iterations times\n",
    "        :param X: input data to train on\n",
    "        :param y: input labels to optimize the model with\n",
    "        :return:\n",
    "        \"\"\"\n",
    "        # use random seed to get initial value for weights\n",
    "        rgen = np.random.RandomState(self.random_state)\n",
    "        self.weights = rgen.normal(loc=0.0, scale=0.01, size=1 + X.shape[1])\n",
    "        # go over the rows applying the weights and optimizing them\n",
    "        for _ in range(self.n_iterations):\n",
    "            for row in range(X.shape[0]):\n",
    "                activation_function_output = self.net_input(X[row])\n",
    "                error = y[row] - activation_function_output\n",
    "                self.weights[1:] = self.weights[1:] + self.learning_rate * error\n",
    "                self.weights[0] = self.weights[0] + self.learning_rate * error\n",
    "        #print(\"the weights are: \" + str(self.weights))\n",
    "\n",
    "    def net_input(self, X: np.array) -> np.array:\n",
    "        \"\"\"\n",
    "        apply the weights and bias on the input data\n",
    "        :param X: input data\n",
    "        :return: probabilities for possible label\n",
    "        \"\"\"\n",
    "        X_probs = np.dot(X, self.weights[1:]) + self.weights[0]\n",
    "        return X_probs\n",
    "\n",
    "    def predict(self, X: np.array) -> np.array:\n",
    "        \"\"\"\n",
    "        predicts labels using fitted algorithm\n",
    "        :param X: input data\n",
    "        :return: labels given by algorithm\n",
    "        \"\"\"\n",
    "        return np.where(self.net_input(X) >= 0.0, 1, -1)"
   ]
  },
  {
   "cell_type": "code",
   "execution_count": 3,
   "metadata": {},
   "outputs": [],
   "source": [
    "def deepest_layer(data, MLP, layer=0):\n",
    "    L = ACTIVATIONS['relu'](np.matmul(data, MLP.coefs_[layer]) + MLP.intercepts_[layer])\n",
    "    layer += 1\n",
    "    if layer >= len(MLP.coefs_)-1:\n",
    "        return L\n",
    "    else:\n",
    "        return deepest_layer(L, MLP, layer=layer)\n",
    "    \n",
    "def prepare_data(resolution: int, size: int = VECTOR_SIZE, random_state: int = 1, labeling: int = 0) -> np.array:\n",
    "    \"\"\"\n",
    "    create the data with custom query, resolution and size\n",
    "    :param resolution: the fraction size of the data (100 is 1/100)\n",
    "    :param size: size of the data\n",
    "    :param random_state: random seed to use\n",
    "    :param labeling: if 0 then all data with x > 1/2 & y >1/2 label 1, if 1 then 1/2  <= x**2 + y**2 <= 3/4 label 1\n",
    "    :return: data using random seed and the query for the labels\n",
    "    \"\"\"\n",
    "    data = np.zeros(shape=(size, 3))\n",
    "    np.random.seed(random_state)\n",
    "    data[:, :2] = np.random.randint(-resolution, resolution + 1, size=(size, 2)) / resolution\n",
    "    # for part A\n",
    "    if labeling == 0:\n",
    "        for row in data:\n",
    "            row[2] = 1 if row[0] > 0.5 and row[1] > 0.5 else -1\n",
    "    # for part B\n",
    "    elif labeling == 1:\n",
    "        for row in data:\n",
    "            row[2] = 1 if 1 / 2 <= row[0] ** 2 + row[1] ** 2 <= 3 / 4 else -1\n",
    "\n",
    "    return data\n",
    "\n",
    "def train_test_split(data: np.ndarray, split: int = TRAIN_TEST_SPLIT)-> (np.ndarray, np.ndarray, np.ndarray, np.ndarray):\n",
    "    \"\"\"\n",
    "    split the data into X, y with a given train test split ratio\n",
    "    :param data: the data with features and labels\n",
    "    :param split: split index\n",
    "    :return: X_train, X_test, y_train, y_test with the given ratio\n",
    "    \"\"\"\n",
    "    X = data[:, :2]\n",
    "    y = data[:, 2]\n",
    "\n",
    "    X_train = X[:split]\n",
    "    X_test = X[split:]\n",
    "    y_train = y[:split]\n",
    "    y_test = y[split:]\n",
    "\n",
    "    return X_train, X_test, y_train, y_test"
   ]
  },
  {
   "cell_type": "code",
   "execution_count": 4,
   "metadata": {},
   "outputs": [],
   "source": [
    "def partB(clf, MLP=None, name=\"progretion\"):\n",
    "    print(\"Q1: change the labels to be 1 if 1/2  <= x**2 + y**2 <= 3/4\")\n",
    "    VECTOR_SIZE = 1000\n",
    "    data = prepare_data(resolution=100, size=VECTOR_SIZE, random_state=1, labeling=1)\n",
    "    X_train, X_test, y_train, y_test = train_test_split(data)\n",
    "    if MLP is not None:\n",
    "        X_train = deepest_layer(X_train, MLP)\n",
    "        X_test = deepest_layer(X_test, MLP)\n",
    "    clf.fit(X_train, y_train)\n",
    "    y_pred = clf.predict(X_test)\n",
    "    score = accuracy_score(y_test, y_pred)\n",
    "    print(confusion_matrix(y_test, y_pred))\n",
    "    print(score)\n",
    "\n",
    "    print(\"Q2: check if adding more data helps\")\n",
    "    plot_progretion(clf, MLP, name)\n",
    "    \n",
    "def plot_progretion(clf, MLP=None, name=\"progretion\"):\n",
    "    scores = np.zeros(10)\n",
    "    data_size = np.zeros(10)\n",
    "    for i in range(10):\n",
    "        data = prepare_data(resolution=100, size=500 * (5 + i), random_state=1, labeling=1)\n",
    "        X_train, X_test, y_train, y_test = train_test_split(data)\n",
    "        if MLP is not None:\n",
    "            X_train = deepest_layer(X_train, MLP)\n",
    "            X_test = deepest_layer(X_test, MLP)\n",
    "        clf.fit(X_train, y_train)\n",
    "        y_pred = clf.predict(X_test)\n",
    "        score = accuracy_score(y_test, y_pred)\n",
    "        scores[i] = score\n",
    "        data_size[i] = 500 * (5 + i)\n",
    "\n",
    "    fig = plt.subplot()\n",
    "    fig.plot(data_size, scores)\n",
    "    plt.title(name)\n",
    "    fig.set_xlabel(\"data size\")\n",
    "    fig.set_ylabel(\"accuracy\")\n",
    "    plt.show()"
   ]
  },
  {
   "cell_type": "code",
   "execution_count": 5,
   "metadata": {},
   "outputs": [
    {
     "name": "stdout",
     "output_type": "stream",
     "text": [
      "\n",
      "part B\n",
      "Q1: change the labels to be 1 if 1/2  <= x**2 + y**2 <= 3/4\n",
      "[[207  31]\n",
      " [ 50  12]]\n",
      "0.73\n",
      "Q2: check if adding more data helps\n"
     ]
    },
    {
     "data": {
      "image/png": "[encoded data removed]",
      "text/plain": [
       "<Figure size 432x288 with 1 Axes>"
      ]
     },
     "metadata": {
      "needs_background": "light"
     },
     "output_type": "display_data"
    }
   ],
   "source": [
    "adaline = CustomAdaline(random_state=0)\n",
    "partB(adaline, name=\"part B\")"
   ]
  },
  {
   "cell_type": "code",
   "execution_count": 6,
   "metadata": {
    "scrolled": false
   },
   "outputs": [
    {
     "name": "stdout",
     "output_type": "stream",
     "text": [
      "Q1: change the labels to be 1 if 1/2  <= x**2 + y**2 <= 3/4\n",
      "[[220  18]\n",
      " [  7  55]]\n",
      "0.9166666666666666\n",
      "Q2: check if adding more data helps\n"
     ]
    },
    {
     "data": {
      "image/png": "[encoded data removed]",
      "text/plain": [
       "<Figure size 432x288 with 1 Axes>"
      ]
     },
     "metadata": {
      "needs_background": "light"
     },
     "output_type": "display_data"
    }
   ],
   "source": [
    "clf = MLPClassifier(hidden_layer_sizes=100, max_iter=1000, alpha=0.2, solver='lbfgs', random_state=0)\n",
    "partB(clf, name=\"part C\")"
   ]
  },
  {
   "cell_type": "code",
   "execution_count": 11,
   "metadata": {},
   "outputs": [
    {
     "name": "stdout",
     "output_type": "stream",
     "text": [
      "Q1: change the labels to be 1 if 1/2  <= x**2 + y**2 <= 3/4\n",
      "[[238   0]\n",
      " [ 62   0]]\n",
      "0.7933333333333333\n",
      "Q2: check if adding more data helps\n"
     ]
    },
    {
     "data": {
      "image/png": "[encoded data removed]",
      "text/plain": [
       "<Figure size 432x288 with 1 Axes>"
      ]
     },
     "metadata": {
      "needs_background": "light"
     },
     "output_type": "display_data"
    }
   ],
   "source": [
    "partB(adaline, MLP=clf, name=\"part D\")"
   ]
  },
  {
   "cell_type": "code",
   "execution_count": null,
   "metadata": {},
   "outputs": [],
   "source": []
  }
 ],
 "metadata": {
  "kernelspec": {
   "display_name": "Python 3",
   "language": "python",
   "name": "python3"
  },
  "language_info": {
   "codemirror_mode": {
    "name": "ipython",
    "version": 3
   },
   "file_extension": ".py",
   "mimetype": "text/x-python",
   "name": "python",
   "nbconvert_exporter": "python",
   "pygments_lexer": "ipython3",
   "version": "3.8.5"
  }
 },
 "nbformat": 4,
 "nbformat_minor": 4
}
